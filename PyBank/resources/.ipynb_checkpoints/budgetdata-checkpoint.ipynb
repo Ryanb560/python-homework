{
 "cells": [
  {
   "cell_type": "code",
   "execution_count": 65,
   "metadata": {},
   "outputs": [],
   "source": [
    "import csv\n",
    "from pathlib import Path"
   ]
  },
  {
   "cell_type": "code",
   "execution_count": 66,
   "metadata": {},
   "outputs": [],
   "source": [
    "# variables for calculations\n",
    "months = []\n",
    "profit_loss_changes = []\n",
    "\n",
    "count_months = 0\n",
    "net_profit_loss = 0\n",
    "previous_month_profit_loss = 0\n",
    "current_month_profit_loss = 0\n",
    "profit_loss_change = 0"
   ]
  },
  {
   "cell_type": "code",
   "execution_count": 67,
   "metadata": {},
   "outputs": [],
   "source": [
    "# Path for the Resources folder\n",
    "budget_data_csv_path = Path(\"budget_data.csv\")"
   ]
  },
  {
   "cell_type": "code",
   "execution_count": 68,
   "metadata": {},
   "outputs": [],
   "source": [
    "# Open and read csv\n",
    "with open(budget_data_csv_path, newline=\"\") as csvfile:\n",
    "\n",
    "    csv_reader = csv.reader(csvfile, delimiter=\",\")\n",
    "\n",
    "    \n",
    "    csv_header = next(csvfile)\n",
    "\n",
    "\n",
    "    \n",
    "    for row in csv_reader:\n",
    "\n",
    "        \n",
    "        count_months += 1\n",
    "\n",
    "        current_month_profit_loss = int(row[1])\n",
    "        net_profit_loss += current_month_profit_loss\n",
    "\n",
    "        if (count_months == 1):\n",
    "          \n",
    "            previous_month_profit_loss = current_month_profit_loss\n",
    "            continue\n",
    "\n",
    "        else:\n",
    "\n",
    "            profit_loss_change = current_month_profit_loss - previous_month_profit_loss\n",
    "\n",
    "            \n",
    "            months.append(row[0])\n",
    "\n",
    "            \n",
    "            profit_loss_changes.append(profit_loss_change)\n",
    "\n",
    "            \n",
    "            previous_month_profit_loss = current_month_profit_loss\n",
    "\n",
    "   \n",
    "    sum_profit_loss = sum(profit_loss_changes)\n",
    "    average_profit_loss = round(sum_profit_loss/(count_months - 1), 2)\n",
    "\n",
    "    \n",
    "    highest_change = max(profit_loss_changes)\n",
    "    lowest_change = min(profit_loss_changes)\n",
    "\n",
    "    # finds the index value of highest and lowest changes in Profit/Losses\n",
    "    highest_month_index = profit_loss_changes.index(highest_change)\n",
    "    lowest_month_index = profit_loss_changes.index(lowest_change)\n",
    "\n",
    "    # Assign best and worst month\n",
    "    best_month = months[highest_month_index]\n",
    "    worst_month = months[lowest_month_index]\n",
    "\n",
    "\n",
    "print(\"Financial Analysis\")\n",
    "print(\"----------------------------\")\n",
    "print(f\"Total Months:  {count_months}\")\n",
    "print(f\"Total:  ${net_profit_loss}\")\n",
    "print(f\"Average Change:  ${average_profit_loss}\")\n",
    "print(f\"Greatest Increase in Profits:  {best_month} (${highest_change})\")\n",
    "print(f\"Greatest Decrease in Losses:  {worst_month} (${lowest_change})\")"
   ]
  },
  {
   "cell_type": "code",
   "execution_count": 68,
   "metadata": {},
   "outputs": [
    {
     "name": "stdout",
     "output_type": "stream",
     "text": [
      "Financial Analysis\n",
      "----------------------------\n",
      "Total Months:  86\n",
      "Total:  $38382578\n",
      "Average Change:  $-2315.12\n",
      "Greatest Increase in Profits:  Feb-2012 ($1926159)\n",
      "Greatest Decrease in Losses:  Sep-2013 ($-2196167)\n"
     ]
    }
   ],
   "source": [
    "# Export raw data to show results\n",
    "budget_file = (\"budget_data.txt\")\n",
    "with open(budget_file, \"w\") as outfile:\n",
    "\n",
    "    outfile.write(\"Financial Analysis\\n\")\n",
    "    outfile.write(\"----------------------------\\n\")\n",
    "    outfile.write(f\"Total Months:  {count_months}\\n\")\n",
    "    outfile.write(f\"Total:  ${net_profit_loss}\\n\")\n",
    "    outfile.write(f\"Average Change:  ${average_profit_loss}\\n\")\n",
    "    outfile.write(f\"Greatest Increase in Profits:  {best_month} (${highest_change})\\n\")\n",
    "    outfile.write(f\"Greatest Decrease in Losses:  {worst_month} (${lowest_change})\\n\")\n",
    "    \n",
    "        \n",
    "    "
   ]
  },
  {
   "cell_type": "code",
   "execution_count": null,
   "metadata": {},
   "outputs": [],
   "source": []
  },
  {
   "cell_type": "code",
   "execution_count": null,
   "metadata": {},
   "outputs": [],
   "source": []
  }
 ],
 "metadata": {
  "kernelspec": {
   "display_name": "Python 3",
   "language": "python",
   "name": "python3"
  },
  "language_info": {
   "codemirror_mode": {
    "name": "ipython",
    "version": 3
   },
   "file_extension": ".py",
   "mimetype": "text/x-python",
   "name": "python",
   "nbconvert_exporter": "python",
   "pygments_lexer": "ipython3",
   "version": "3.8.5"
  }
 },
 "nbformat": 4,
 "nbformat_minor": 4
}
